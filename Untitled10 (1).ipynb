{
 "cells": [
  {
   "cell_type": "code",
   "execution_count": 138,
   "id": "0835f2f8-441a-46bf-a1fd-ef06b78298bb",
   "metadata": {},
   "outputs": [
    {
     "data": {
      "text/plain": [
       "[1, 2, 'anu', 'ram', 15.6, 'raj']"
      ]
     },
     "execution_count": 138,
     "metadata": {},
     "output_type": "execute_result"
    }
   ],
   "source": [
    "#creating the list\n",
    "list1=[1,2,'anu','ram',15.6,'raj']\n",
    "list1"
   ]
  },
  {
   "cell_type": "code",
   "execution_count": 139,
   "id": "6bd8c9a0-d7ba-400e-b7bf-9c8418eef069",
   "metadata": {},
   "outputs": [
    {
     "data": {
      "text/plain": [
       "2"
      ]
     },
     "execution_count": 139,
     "metadata": {},
     "output_type": "execute_result"
    }
   ],
   "source": [
    "#accessing list items\n",
    "list1[1]"
   ]
  },
  {
   "cell_type": "code",
   "execution_count": 140,
   "id": "5d7a5e2d-2a2e-4680-ac19-edd4cc8cb155",
   "metadata": {},
   "outputs": [
    {
     "data": {
      "text/plain": [
       "[2, 'anu']"
      ]
     },
     "execution_count": 140,
     "metadata": {},
     "output_type": "execute_result"
    }
   ],
   "source": [
    "list1[1:3]"
   ]
  },
  {
   "cell_type": "code",
   "execution_count": 141,
   "id": "83095b6d-410f-4735-b299-a1f550fe15dc",
   "metadata": {},
   "outputs": [
    {
     "data": {
      "text/plain": [
       "15.6"
      ]
     },
     "execution_count": 141,
     "metadata": {},
     "output_type": "execute_result"
    }
   ],
   "source": [
    "list1[-2]"
   ]
  },
  {
   "cell_type": "code",
   "execution_count": 142,
   "id": "47cb1f87-2667-4045-806e-f17066f68366",
   "metadata": {},
   "outputs": [
    {
     "data": {
      "text/plain": [
       "[1, 2, 'anu', 'ram', 15.6, 'raj', 'harsha']"
      ]
     },
     "execution_count": 142,
     "metadata": {},
     "output_type": "execute_result"
    }
   ],
   "source": [
    "#adding elements into list\n",
    "list1.append('harsha')\n",
    "list1"
   ]
  },
  {
   "cell_type": "code",
   "execution_count": 143,
   "id": "c387d54d-d8d3-4899-b107-01d94a39bf4d",
   "metadata": {},
   "outputs": [
    {
     "data": {
      "text/plain": [
       "[1, 56, 2, 'anu', 'ram', 15.6, 'raj', 'harsha']"
      ]
     },
     "execution_count": 143,
     "metadata": {},
     "output_type": "execute_result"
    }
   ],
   "source": [
    "list1.insert(1,56)\n",
    "list1"
   ]
  },
  {
   "cell_type": "code",
   "execution_count": 198,
   "id": "a200bcf2-cddf-4d9b-9a44-b0bf1cc2e0e9",
   "metadata": {},
   "outputs": [
    {
     "data": {
      "text/plain": [
       "[1, 56, 'sri', 'sita', 'anu', 'ram']"
      ]
     },
     "execution_count": 198,
     "metadata": {},
     "output_type": "execute_result"
    }
   ],
   "source": [
    "#updating the list\n",
    "list1[2:3]=['sri','sita']\n",
    "list1"
   ]
  },
  {
   "cell_type": "code",
   "execution_count": 145,
   "id": "3b8e9730-6f0a-4411-be7f-7e557e4bd8d2",
   "metadata": {},
   "outputs": [
    {
     "data": {
      "text/plain": [
       "[1, 56, 'sri', 'sita', 'anu', 'ram', 'raj', 'harsha']"
      ]
     },
     "execution_count": 145,
     "metadata": {},
     "output_type": "execute_result"
    }
   ],
   "source": [
    "#remove elemnts from list\n",
    "list1.remove(15.6)\n",
    "list1"
   ]
  },
  {
   "cell_type": "code",
   "execution_count": 194,
   "id": "9bc17816-7ff4-4e00-ac6d-3070837bab55",
   "metadata": {},
   "outputs": [
    {
     "data": {
      "text/plain": [
       "'sita'"
      ]
     },
     "execution_count": 194,
     "metadata": {},
     "output_type": "execute_result"
    }
   ],
   "source": [
    "list1.pop(3)"
   ]
  },
  {
   "cell_type": "code",
   "execution_count": 195,
   "id": "210f0348-4460-41bc-8a21-6d68de95d894",
   "metadata": {},
   "outputs": [
    {
     "data": {
      "text/plain": [
       "'harsha'"
      ]
     },
     "execution_count": 195,
     "metadata": {},
     "output_type": "execute_result"
    }
   ],
   "source": [
    "list1.pop()"
   ]
  },
  {
   "cell_type": "code",
   "execution_count": 196,
   "id": "4cda58a1-e08d-4fd2-a77f-278f2ea961d0",
   "metadata": {},
   "outputs": [],
   "source": [
    "del list1[5]"
   ]
  },
  {
   "cell_type": "code",
   "execution_count": 197,
   "id": "d0d0b6f1-1b51-4e9d-93c4-91e21c50dbde",
   "metadata": {},
   "outputs": [
    {
     "data": {
      "text/plain": [
       "[1, 56, 'sri', 'anu', 'ram']"
      ]
     },
     "execution_count": 197,
     "metadata": {},
     "output_type": "execute_result"
    }
   ],
   "source": [
    "list1"
   ]
  },
  {
   "cell_type": "code",
   "execution_count": 146,
   "id": "d2fd53f0-9929-4484-8ac7-955b95ed384f",
   "metadata": {},
   "outputs": [
    {
     "data": {
      "text/plain": [
       "{'brand': 'audi', 'model': 'q8', 'color': 'black'}"
      ]
     },
     "execution_count": 146,
     "metadata": {},
     "output_type": "execute_result"
    }
   ],
   "source": [
    "#dictionary\n",
    "cars={'brand':'audi','model':'q8','color':'black'}\n",
    "cars"
   ]
  },
  {
   "cell_type": "code",
   "execution_count": 147,
   "id": "a2270e5e-326f-4105-bb6b-0ea9a56a8c7a",
   "metadata": {},
   "outputs": [
    {
     "data": {
      "text/plain": [
       "dict_keys(['brand', 'model', 'color'])"
      ]
     },
     "execution_count": 147,
     "metadata": {},
     "output_type": "execute_result"
    }
   ],
   "source": [
    "cars.keys()"
   ]
  },
  {
   "cell_type": "code",
   "execution_count": 148,
   "id": "0b870813-fb3e-4feb-a372-2f5c9dd2cb8e",
   "metadata": {},
   "outputs": [
    {
     "data": {
      "text/plain": [
       "dict_values(['audi', 'q8', 'black'])"
      ]
     },
     "execution_count": 148,
     "metadata": {},
     "output_type": "execute_result"
    }
   ],
   "source": [
    "cars.values()"
   ]
  },
  {
   "cell_type": "code",
   "execution_count": 149,
   "id": "cdfa5caf-b658-41f5-a9e5-1bc76ccdb9bd",
   "metadata": {},
   "outputs": [
    {
     "data": {
      "text/plain": [
       "'q8'"
      ]
     },
     "execution_count": 149,
     "metadata": {},
     "output_type": "execute_result"
    }
   ],
   "source": [
    "#accessing keys using get()\n",
    "cars.get('model')"
   ]
  },
  {
   "cell_type": "code",
   "execution_count": 150,
   "id": "5166af60-9125-4492-8770-ac574e28c92a",
   "metadata": {},
   "outputs": [
    {
     "data": {
      "text/plain": [
       "dict_items([('brand', 'audi'), ('model', 'q8'), ('color', 'black')])"
      ]
     },
     "execution_count": 150,
     "metadata": {},
     "output_type": "execute_result"
    }
   ],
   "source": [
    "#accessing using items()\n",
    "cars.items()"
   ]
  },
  {
   "cell_type": "code",
   "execution_count": 151,
   "id": "53096171-d70f-4bcb-952e-c0b480d3ad63",
   "metadata": {},
   "outputs": [
    {
     "data": {
      "text/plain": [
       "{'brand': 'audi', 'model': 's8', 'color': 'black'}"
      ]
     },
     "execution_count": 151,
     "metadata": {},
     "output_type": "execute_result"
    }
   ],
   "source": [
    "#modifing the dictionary\n",
    "cars['model']='s8'\n",
    "cars"
   ]
  },
  {
   "cell_type": "code",
   "execution_count": 152,
   "id": "9fc1f8e7-f73d-48be-bf02-6975c70f549b",
   "metadata": {},
   "outputs": [
    {
     "data": {
      "text/plain": [
       "{'brand': 'audi', 'model': 's8', 'color': 'black', 'number': 'AP#4396'}"
      ]
     },
     "execution_count": 152,
     "metadata": {},
     "output_type": "execute_result"
    }
   ],
   "source": [
    "#adding new items in dict\n",
    "cars.update({'number':'AP#4396'})\n",
    "cars"
   ]
  },
  {
   "cell_type": "code",
   "execution_count": 153,
   "id": "080dff52-6d13-460d-9ec3-1063f23b2bba",
   "metadata": {},
   "outputs": [
    {
     "data": {
      "text/plain": [
       "'s8'"
      ]
     },
     "execution_count": 153,
     "metadata": {},
     "output_type": "execute_result"
    }
   ],
   "source": [
    "#removing dict items\n",
    "cars.pop('model')"
   ]
  },
  {
   "cell_type": "code",
   "execution_count": 154,
   "id": "9ed1ea1a-5dc4-444d-b126-c93ab5852a11",
   "metadata": {},
   "outputs": [
    {
     "data": {
      "text/plain": [
       "('number', 'AP#4396')"
      ]
     },
     "execution_count": 154,
     "metadata": {},
     "output_type": "execute_result"
    }
   ],
   "source": [
    "cars.popitem()"
   ]
  },
  {
   "cell_type": "code",
   "execution_count": 199,
   "id": "d669e4bf-6005-46ab-be48-e24a5de58c32",
   "metadata": {},
   "outputs": [],
   "source": [
    "del cars['color']\n"
   ]
  },
  {
   "cell_type": "code",
   "execution_count": 200,
   "id": "602ca2fa-a840-44a1-9f7a-d5c5669fcf25",
   "metadata": {},
   "outputs": [
    {
     "data": {
      "text/plain": [
       "{'brand': 'audi'}"
      ]
     },
     "execution_count": 200,
     "metadata": {},
     "output_type": "execute_result"
    }
   ],
   "source": [
    "cars"
   ]
  },
  {
   "cell_type": "code",
   "execution_count": 160,
   "id": "3e2ddb2d-deaf-4321-9346-78178641bf25",
   "metadata": {},
   "outputs": [
    {
     "data": {
      "text/plain": [
       "{'c', 'java', 'python'}"
      ]
     },
     "execution_count": 160,
     "metadata": {},
     "output_type": "execute_result"
    }
   ],
   "source": [
    "#creating set\n",
    "set1={\"c\",\"java\",\"python\"}\n",
    "set1"
   ]
  },
  {
   "cell_type": "code",
   "execution_count": 161,
   "id": "7bb7be5e-3174-49ed-badf-cb34bd89a7a7",
   "metadata": {},
   "outputs": [
    {
     "data": {
      "text/plain": [
       "3"
      ]
     },
     "execution_count": 161,
     "metadata": {},
     "output_type": "execute_result"
    }
   ],
   "source": [
    "len(set1)"
   ]
  },
  {
   "cell_type": "code",
   "execution_count": 162,
   "id": "1d3ba872-eacc-4be1-8c40-6f02e24d925e",
   "metadata": {},
   "outputs": [
    {
     "name": "stdout",
     "output_type": "stream",
     "text": [
      "python\n",
      "c\n",
      "java\n"
     ]
    }
   ],
   "source": [
    "#accessing the set elements\n",
    "for x in set1:\n",
    "    print(x)"
   ]
  },
  {
   "cell_type": "code",
   "execution_count": 185,
   "id": "af3cd95e-0f91-4374-a3de-dc35cd118730",
   "metadata": {},
   "outputs": [
    {
     "data": {
      "text/plain": [
       "{'R', 'c++', 'sql'}"
      ]
     },
     "execution_count": 185,
     "metadata": {},
     "output_type": "execute_result"
    }
   ],
   "source": [
    "#adding elements\n",
    "set1.add(\"R\")\n",
    "set1"
   ]
  },
  {
   "cell_type": "code",
   "execution_count": 186,
   "id": "a81028a0-1c26-4d3e-a48a-af87912f2c7e",
   "metadata": {},
   "outputs": [
    {
     "data": {
      "text/plain": [
       "{'R', 'c++', 'ml', 'sql'}"
      ]
     },
     "execution_count": 186,
     "metadata": {},
     "output_type": "execute_result"
    }
   ],
   "source": [
    "#updating\n",
    "set2=['c++','sql','ml']\n",
    "set1.update(set2)\n",
    "set1"
   ]
  },
  {
   "cell_type": "code",
   "execution_count": 187,
   "id": "11d9a71c-ad8b-416f-87ae-9b4291e5204b",
   "metadata": {},
   "outputs": [
    {
     "data": {
      "text/plain": [
       "{'R', 'c++', 'ml', 'sql'}"
      ]
     },
     "execution_count": 187,
     "metadata": {},
     "output_type": "execute_result"
    }
   ],
   "source": [
    "set1.union(set2)"
   ]
  },
  {
   "cell_type": "code",
   "execution_count": 188,
   "id": "fe555c92-23c9-4f30-8a24-7b9d2ce53c2f",
   "metadata": {},
   "outputs": [
    {
     "name": "stdout",
     "output_type": "stream",
     "text": [
      "['c++', 'ml']\n"
     ]
    }
   ],
   "source": [
    "#deleting\n",
    "set2.remove('sql')\n",
    "print(set2)"
   ]
  },
  {
   "cell_type": "code",
   "execution_count": 189,
   "id": "4ac92790-6009-4b57-ba17-dd7f9622b687",
   "metadata": {},
   "outputs": [
    {
     "name": "stdout",
     "output_type": "stream",
     "text": [
      "{'ml', 'R', 'sql', 'c++'}\n"
     ]
    }
   ],
   "source": [
    "set1.discard(\"c\")\n",
    "print(set1)"
   ]
  },
  {
   "cell_type": "code",
   "execution_count": 190,
   "id": "d42cb21c-25bd-4578-b366-9f54c357514d",
   "metadata": {},
   "outputs": [
    {
     "data": {
      "text/plain": [
       "'R'"
      ]
     },
     "execution_count": 190,
     "metadata": {},
     "output_type": "execute_result"
    }
   ],
   "source": [
    "set1.pop()"
   ]
  },
  {
   "cell_type": "code",
   "execution_count": 191,
   "id": "d1f235cc-3788-486d-b474-cea33561d9f3",
   "metadata": {},
   "outputs": [
    {
     "data": {
      "text/plain": [
       "{'c++', 'ml', 'sql'}"
      ]
     },
     "execution_count": 191,
     "metadata": {},
     "output_type": "execute_result"
    }
   ],
   "source": [
    "set1"
   ]
  },
  {
   "cell_type": "code",
   "execution_count": null,
   "id": "f130bfcc-c253-480b-927b-0cb23b52bcc8",
   "metadata": {},
   "outputs": [],
   "source": []
  }
 ],
 "metadata": {
  "kernelspec": {
   "display_name": "Python 3 (ipykernel)",
   "language": "python",
   "name": "python3"
  },
  "language_info": {
   "codemirror_mode": {
    "name": "ipython",
    "version": 3
   },
   "file_extension": ".py",
   "mimetype": "text/x-python",
   "name": "python",
   "nbconvert_exporter": "python",
   "pygments_lexer": "ipython3",
   "version": "3.11.7"
  }
 },
 "nbformat": 4,
 "nbformat_minor": 5
}
